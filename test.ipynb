{
 "cells": [
  {
   "cell_type": "code",
   "execution_count": 6,
   "metadata": {},
   "outputs": [
    {
     "name": "stdout",
     "output_type": "stream",
     "text": [
      "0     Multiple big creators stole my content and got...\n",
      "1     Can you follow MrBeast on TikTok? Comment the ...\n",
      "2     \"Within the niche of fitness you're creating 8...\n",
      "3     \"Right now there are 800 million YouTube video...\n",
      "4     \"When you first publish your content, it gets ...\n",
      "5     \"The first thing we want to do is come up with...\n",
      "6     \"You could put a negative spin. Protein powder...\n",
      "7     \"You can easily build automations that instant...\n",
      "8     \"In fact, when most gurus are selling for thou...\n",
      "9     First, identify a niche that you wanna grow in...\n",
      "10    \"Step one, learn to create content. Comments s...\n",
      "11    export settings comment free and I'll send you...\n",
      "12    \"What he does is called growth operating which...\n",
      "13    \"I've come across a few young internet million...\n",
      "14    \"He is over 2.29 million subs on YouTube and r...\n",
      "15    \"Ramosi himself said that running a paid commu...\n",
      "16    \"Talking about it or thinking about it, there'...\n",
      "17    The main subject of the video focuses on three...\n",
      "18    \"The first group went out and basically barter...\n",
      "19    Scrolling on Tik Tok, scrolling on Instagram, ...\n",
      "20    \"It's really hard to build an incredible body ...\n",
      "21    sit down with a piece of paper and write down ...\n",
      "22    \"Time is not your most important asset. Energy...\n",
      "23    By running a mile in 3 minutes and 59 seconds,...\n",
      "24    \"And that only takes us back to about the 17th...\n",
      "25    \"Oh, they have credits. They have credits. Yea...\n",
      "26    \"What I've learned after generating tens of mi...\n",
      "27    \"The first is that we have a bi-weekly meeting...\n",
      "28    \"And that was because virtual assistants were ...\n",
      "29    \"So you scale up ads when you have the first s...\n",
      "30    \"And a unique mechanism is exactly that—it is ...\n",
      "31    \"...and sell it to a business owner in a consu...\n",
      "32    \"And a unique mechanism is exactly that – a un...\n",
      "33    \"I even tried like a big trend right now calle...\n",
      "34    \"The first thing is the night before. You want...\n",
      "35    \"And even when we did a good job for our clien...\n",
      "36    \"Instead of trying to scale your agency past $...\n",
      "37    \"Throughout the entire day, I was getting sale...\n",
      "38    \"And in this quick video, I'm gonna show you e...\n",
      "39    Number one, you need a scalable model. So inst...\n",
      "40    First, find a competitor in your niche that's ...\n",
      "41    \"Just last year when I was a senior in high sc...\n",
      "42    Stop listening to all these gurus that are tel...\n",
      "Name: Body , dtype: object\n"
     ]
    }
   ],
   "source": [
    "import pandas as pd\n",
    "import numpy as np\n",
    "\n",
    "df = pd.read_csv(\"./phiDataset.csv\")\n",
    "# print(df.head(5))\n",
    "\n",
    "print(df['Body '])"
   ]
  }
 ],
 "metadata": {
  "kernelspec": {
   "display_name": "Python 3",
   "language": "python",
   "name": "python3"
  },
  "language_info": {
   "codemirror_mode": {
    "name": "ipython",
    "version": 3
   },
   "file_extension": ".py",
   "mimetype": "text/x-python",
   "name": "python",
   "nbconvert_exporter": "python",
   "pygments_lexer": "ipython3",
   "version": "3.11.0"
  }
 },
 "nbformat": 4,
 "nbformat_minor": 2
}
