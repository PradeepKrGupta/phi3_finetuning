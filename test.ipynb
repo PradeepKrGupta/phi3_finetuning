{
 "cells": [
  {
   "cell_type": "code",
   "execution_count": 5,
   "metadata": {},
   "outputs": [
    {
     "name": "stdout",
     "output_type": "stream",
     "text": [
      "        Date                                       Reference URL  \\\n",
      "0  05/04/2024  https://www.instagram.com/reel/C5Gj8oMrOkd/?ig...   \n",
      "1  21/04/2024  https://www.instagram.com/reel/C5_wpqASpXA/?ig...   \n",
      "2  17/05/2024  https://www.instagram.com/reel/CxsrdLjuoO5/?ig...   \n",
      "3  17/05/2024  https://www.instagram.com/reel/C1fL7j4RSfP/?ig...   \n",
      "4  17/05/2024  https://www.instagram.com/reel/CxaY7XQOIUq/?ig...   \n",
      "\n",
      "                                                Hook  \\\n",
      "0  :Multiple big creators stole my content and go...   \n",
      "1  Can you follow MrBeast on TikTok? Comment the ...   \n",
      "2  \"My name is Devin Jatto and as a social media ...   \n",
      "3  \"If you need content ideas for TikToks or Inst...   \n",
      "4  \"This is how the algorithm works on social med...   \n",
      "\n",
      "                                            Build Up  \\\n",
      "0  Multiple big creators stole my content and got...   \n",
      "1  This is the secret to how the biggest creators...   \n",
      "2  \"First, you need to get clear on what you're a...   \n",
      "3  \"Can you give me 10 content ideas? That's horr...   \n",
      "4  \"Once you learn the algorithm, you know the ru...   \n",
      "\n",
      "                                               Body   \\\n",
      "0  Multiple big creators stole my content and got...   \n",
      "1  Can you follow MrBeast on TikTok? Comment the ...   \n",
      "2  \"Within the niche of fitness you're creating 8...   \n",
      "3  \"Right now there are 800 million YouTube video...   \n",
      "4  \"When you first publish your content, it gets ...   \n",
      "\n",
      "                                                 CTA  \n",
      "0  Comment PB below if you want me to send you a ...  \n",
      "1          So comment down below CTA if you want it.  \n",
      "2  \"At the end of these 30 days sort your videos ...  \n",
      "3  \"You can either screenshot this or just commen...  \n",
      "4  \"And the biggest cheat code to win this game i...  \n"
     ]
    }
   ],
   "source": [
    "import pandas as pd\n",
    "import numpy as np\n",
    "\n",
    "df = pd.read_csv(\"./phiDataset.csv\")\n",
    "print(df.head(5))"
   ]
  }
 ],
 "metadata": {
  "kernelspec": {
   "display_name": "Python 3",
   "language": "python",
   "name": "python3"
  },
  "language_info": {
   "codemirror_mode": {
    "name": "ipython",
    "version": 3
   },
   "file_extension": ".py",
   "mimetype": "text/x-python",
   "name": "python",
   "nbconvert_exporter": "python",
   "pygments_lexer": "ipython3",
   "version": "3.11.0"
  }
 },
 "nbformat": 4,
 "nbformat_minor": 2
}
